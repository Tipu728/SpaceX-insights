{
  "nbformat": 4,
  "nbformat_minor": 0,
  "metadata": {
    "colab": {
      "provenance": [],
      "authorship_tag": "ABX9TyMNNkMAkPouG9mdyyzNvM9K",
      "include_colab_link": true
    },
    "kernelspec": {
      "name": "python3",
      "display_name": "Python 3"
    },
    "language_info": {
      "name": "python"
    }
  },
  "cells": [
    {
      "cell_type": "markdown",
      "metadata": {
        "id": "view-in-github",
        "colab_type": "text"
      },
      "source": [
        "<a href=\"https://colab.research.google.com/github/Tipu728/SpaceX-insights/blob/main/assighment1.ipynb\" target=\"_parent\"><img src=\"https://colab.research.google.com/assets/colab-badge.svg\" alt=\"Open In Colab\"/></a>"
      ]
    },
    {
      "cell_type": "code",
      "execution_count": null,
      "metadata": {
        "id": "EFsQTZShCd-M"
      },
      "outputs": [],
      "source": []
    },
    {
      "source": [
        "import numpy as np\n",
        "\n",
        "# Define the sigmoid activation function\n",
        "def sigmoid(x):\n",
        "  return 1 / (1 + np.exp(-x))\n",
        "\n",
        "# Define the derivative of the sigmoid function\n",
        "def sigmoid_derivative(x):\n",
        "  return x * (1 - x)\n",
        "\n",
        "# Define the inputs and desired output\n",
        "inputs = np.array([[0, 0, 1],\n",
        "                   [1, 1, 1],\n",
        "                   [1, 0, 1],\n",
        "                   [0, 1, 1]])\n",
        "desired_output = np.array([[0, 1, 1, 0]]).T\n",
        "\n",
        "# Initialize the weights randomly\n",
        "weights = 2 * np.random.random((3, 1)) - 1\n",
        "\n",
        "# Set the learning rate\n",
        "learning_rate = 0.5\n",
        "\n",
        "# Train the neuron"
      ],
      "cell_type": "code",
      "metadata": {
        "id": "nQUnJjUhCnWx"
      },
      "execution_count": 1,
      "outputs": []
    },
    {
      "source": [
        "import numpy as np\n",
        "\n",
        "# Define the sigmoid activation function manually\n",
        "def sigmoid_manual(x):\n",
        "  return 1 / (1 + np.exp(-x))\n",
        "\n",
        "# Define the derivative of the sigmoid function\n",
        "def sigmoid_derivative(x):\n",
        "  return x * (1 - x)\n",
        "\n",
        "# Define the inputs and desired output\n",
        "inputs = np.array([[0, 0, 1, 1, 0],\n",
        "                   [1, 1, 1, 0, 1],\n",
        "                   [1, 0, 1, 1, 1],\n",
        "                   [0, 1, 1, 0, 0]])\n",
        "desired_output = np.array([[0, 1, 1, 0]]).T\n",
        "\n",
        "# Initialize the weights randomly\n",
        "weights = 2 * np.random.random((5, 1)) - 1\n",
        "\n",
        "# Set the learning rate\n",
        "learning_rate = 0.5\n",
        "\n",
        "# Train the neuron for a certain number of iterations\n",
        "for iteration in range(10000):\n",
        "  # Calculate the output using the manual sigmoid function\n",
        "  output_manual = sigmoid_manual(np.dot(inputs, weights))\n",
        "\n",
        "  # Calculate the output using the built-in sigmoid function\n",
        "  # Import the built-in sigmoid function from scipy.special\n",
        "  from scipy.special import expit as sigmoid_builtin\n",
        "  output_builtin = sigmoid_builtin(np.dot(inputs, weights))\n",
        "\n",
        "  # Calculate the error using the manual output\n",
        "  error = desired_output - output_manual\n",
        "\n",
        "  # Update the weights\n",
        "  adjustments = error * sigmoid_derivative(output_manual) * learning_rate\n",
        "  weights += np.dot(inputs.T, adjustments)\n",
        "\n",
        "# Print the final weights\n",
        "print(\"Final Weights:\", weights)\n",
        "\n",
        "# Test the neuron with a new input and compare the outputs\n",
        "new_input = np.array([1, 0, 0, 1, 0])\n",
        "prediction_manual = sigmoid_manual(np.dot(new_input, weights))\n",
        "prediction_builtin = sigmoid_builtin(np.dot(new_input, weights))\n",
        "\n",
        "print(\"Manual Prediction:\", prediction_manual)\n",
        "print(\"Built-in Prediction:\", prediction_builtin)"
      ],
      "cell_type": "code",
      "metadata": {
        "colab": {
          "base_uri": "https://localhost:8080/"
        },
        "id": "OE_fvO1mCvxZ",
        "outputId": "d2d5ed69-7f10-4d91-933a-d6e378a82dba"
      },
      "execution_count": 2,
      "outputs": [
        {
          "output_type": "stream",
          "name": "stdout",
          "text": [
            "Final Weights: [[ 4.70770235]\n",
            " [-1.4495965 ]\n",
            " [-3.21969516]\n",
            " [-1.44957979]\n",
            " [ 4.8898162 ]]\n",
            "Manual Prediction: [0.96296389]\n",
            "Built-in Prediction: [0.96296389]\n"
          ]
        }
      ]
    },
    {
      "cell_type": "code",
      "source": [
        "import numpy as np\n",
        "from scipy.special import expit\n",
        "\n",
        "# Define the sigmoid activation function manually\n",
        "def sigmoid_manual(x):\n",
        "  return 1 / (1 + np.exp(-x))\n",
        "\n",
        "# Define the inputs and desired output\n",
        "inputs = np.array([[0, 0, 1, 1, 0],\n",
        "                   [1, 1, 1, 0, 1],\n",
        "                   [1, 0, 1, 1, 1],\n",
        "                   [0, 1, 1, 0, 0]])\n",
        "desired_output = np.array([[0, 1, 1, 0]]).T\n",
        "\n",
        "# Initialize the weights randomly\n",
        "weights = 2 * np.random.random((5, 1)) - 1\n",
        "\n",
        "# Set the learning rate\n",
        "learning_rate = 0.5\n",
        "\n",
        "# Train the neuron for a certain number of iterations\n",
        "for iteration in range(10000):\n",
        "  # Calculate the output using the manual sigmoid function\n",
        "  output_manual = sigmoid_manual(np.dot(inputs, weights))\n",
        "\n",
        "  # Calculate the output using the built-in sigmoid function\n",
        "  output_builtin = expit(np.dot(inputs, weights))\n",
        "\n",
        "  # Calculate the error for both outputs\n",
        "  error_manual = desired_output - output_manual\n",
        "  error_builtin = desired_output - output_builtin\n",
        "\n",
        "  # Update the weights using the manual sigmoid error\n",
        "  adjustments_manual = error_manual * output_manual * (1 - output_manual) * learning_rate\n",
        "  weights += np.dot(inputs.T, adjustments_manual)\n",
        "\n",
        "# Print the final weights\n",
        "print(weights)\n",
        "\n",
        "# Test the neuron with a new input and compare the outputs\n",
        "new_input = np.array([1, 0, 0, 1, 0])\n",
        "prediction_manual = sigmoid_manual(np.dot(new_input, weights))\n",
        "prediction_builtin = expit(np.dot(new_input, weights))\n",
        "print(\"Manual Sigmoid Prediction:\", prediction_manual)\n",
        "print(\"Built-in Sigmoid Prediction:\", prediction_builtin)"
      ],
      "metadata": {
        "colab": {
          "base_uri": "https://localhost:8080/"
        },
        "id": "hYBvuUKbC3ra",
        "outputId": "bb9cd778-9e32-4c86-ff0f-9e766bd61484"
      },
      "execution_count": 3,
      "outputs": [
        {
          "output_type": "stream",
          "name": "stdout",
          "text": [
            "[[ 4.84475957]\n",
            " [-1.85194013]\n",
            " [-2.81771865]\n",
            " [-1.85189305]\n",
            " [ 4.7534616 ]]\n",
            "Manual Sigmoid Prediction: [0.95225082]\n",
            "Built-in Sigmoid Prediction: [0.95225082]\n"
          ]
        }
      ]
    },
    {
      "cell_type": "code",
      "source": [
        "import numpy as np\n",
        "\n",
        "# Define the sigmoid activation function\n",
        "def sigmoid(x):\n",
        "  return 1 / (1 + np.exp(-x))\n",
        "\n",
        "# Define the inputs and weights\n",
        "inputs = np.array([2, 3, 4])  # Example input values\n",
        "weights = np.array([0.5, -0.2, 0.1])  # Example weights\n",
        "bias = 1  # Example bias value\n",
        "\n",
        "# Calculate the dot product (z)\n",
        "z = np.dot(inputs, weights) + bias\n",
        "\n",
        "# Print the value of z\n",
        "print(\"z =\", z)\n",
        "\n",
        "# Check predictions based on z\n",
        "if z > 0:\n",
        "  prediction = 1\n",
        "  print(\"Prediction: 1 (z > 0)\")\n",
        "else:\n",
        "  prediction = 0\n",
        "  print(\"Prediction: 0 (z <= 0)\")\n",
        "\n",
        "# --- Example with z < 0 ---\n",
        "inputs = np.array([-1, -2, -3])  # Example input values where z will be negative\n",
        "z = np.dot(inputs, weights) + bias\n",
        "print(\"\\nz =\", z)\n",
        "\n",
        "# Check predictions based on z\n",
        "if z > 0:\n",
        "  prediction = 1\n",
        "  print(\"Prediction: 1 (z > 0)\")\n",
        "else:\n",
        "  prediction = 0\n",
        "  print(\"Prediction: 0 (z <= 0)\")"
      ],
      "metadata": {
        "colab": {
          "base_uri": "https://localhost:8080/"
        },
        "id": "qJKHxLExC7uC",
        "outputId": "72f37ac2-9e44-40c7-f3c0-d921cf3c2f09"
      },
      "execution_count": 4,
      "outputs": [
        {
          "output_type": "stream",
          "name": "stdout",
          "text": [
            "z = 1.7999999999999998\n",
            "Prediction: 1 (z > 0)\n",
            "\n",
            "z = 0.6\n",
            "Prediction: 1 (z > 0)\n"
          ]
        }
      ]
    },
    {
      "cell_type": "code",
      "source": [
        "import numpy as np\n",
        "\n",
        "# Define the sigmoid activation function\n",
        "def sigmoid(x):\n",
        "  return 1 / (1 + np.exp(-x))\n",
        "\n",
        "# Define the derivative of the sigmoid function\n",
        "def sigmoid_derivative(x):\n",
        "  return x * (1 - x)\n",
        "\n",
        "# Define the inputs and desired output\n",
        "inputs = np.array([[0, 0, 1],\n",
        "                   [1, 1, 1],\n",
        "                   [1, 0, 1],\n",
        "                   [0, 1, 1]])\n",
        "desired_output = np.array([[0, 1, 1, 0]]).T\n",
        "\n",
        "# Initialize the weights randomly with appropriate shapes\n",
        "hidden_layer_1_weights = 2 * np.random.random((3, 2)) - 1  # 3 inputs, 2 neurons in hidden layer 1\n",
        "hidden_layer_2_weights = 2 * np.random.random((2, 4)) - 1  # 2 neurons from layer 1, 4 neurons in hidden layer 2\n",
        "hidden_layer_3_weights = 2 * np.random.random((4, 2)) - 1  # 4 neurons from layer 2, 2 neurons in hidden layer 3\n",
        "output_layer_weights = 2 * np.random.random((2, 1)) - 1  # 2 neurons from layer 3, 1 output neuron\n",
        "\n",
        "# Set the learning rate\n",
        "learning_rate = 0.5\n",
        "\n",
        "# Train the neuron for a certain number of iterations\n",
        "for iteration in range(10000):\n",
        "  # Forward propagation\n",
        "  hidden_layer_1_output = sigmoid(np.dot(inputs, hidden_layer_1_weights))\n",
        "  hidden_layer_2_output = sigmoid(np.dot(hidden_layer_1_output, hidden_layer_2_weights))\n",
        "  hidden_layer_3_output = sigmoid(np.dot(hidden_layer_2_output, hidden_layer_3_weights))\n",
        "  output = sigmoid(np.dot(hidden_layer_3_output, output_layer_weights))\n",
        "\n",
        "  # Backpropagation\n",
        "  output_error = desired_output - output\n",
        "  output_delta = output_error * sigmoid_derivative(output)\n",
        "\n",
        "  hidden_layer_3_error = output_delta.dot(output_layer_weights.T)\n",
        "  hidden_layer_3_delta = hidden_layer_3_error * sigmoid_derivative(hidden_layer_3_output)\n",
        "\n",
        "  hidden_layer_2_error = hidden_layer_3_delta.dot(hidden_layer_3_weights.T)\n",
        "  hidden_layer_2_delta = hidden_layer_2_error * sigmoid_derivative(hidden_layer_2_output)\n",
        "\n",
        "  hidden_layer_1_error = hidden_layer_2_delta.dot(hidden_layer_2_weights.T)\n",
        "  hidden_layer_1_delta = hidden_layer_1_error * sigmoid_derivative(hidden_layer_1_output)\n",
        "\n",
        "  # Update the weights\n",
        "  output_layer_weights += hidden_layer_3_output.T.dot(output_delta) * learning_rate\n",
        "  hidden_layer_3_weights += hidden_layer_2_output.T.dot(hidden_layer_3_delta) * learning_rate\n",
        "  hidden_layer_2_weights += hidden_layer_1_output.T.dot(hidden_layer_2_delta) * learning_rate\n",
        "  hidden_layer_1_weights += inputs.T.dot(hidden_layer_1_delta) * learning_rate\n",
        "\n",
        "# Test the neuron with a new input\n",
        "new_input = np.array([1, 0, 0])\n",
        "hidden_layer_1_output = sigmoid(np.dot(new_input, hidden_layer_1_weights))\n",
        "hidden_layer_2_output = sigmoid(np.dot(hidden_layer_1_output, hidden_layer_2_weights))\n",
        "hidden_layer_3_output = sigmoid(np.dot(hidden_layer_2_output, hidden_layer_3_weights))\n",
        "prediction = sigmoid(np.dot(hidden_layer_3_output, output_layer_weights))\n",
        "\n",
        "print(prediction)"
      ],
      "metadata": {
        "colab": {
          "base_uri": "https://localhost:8080/"
        },
        "id": "4lOinweCDOFB",
        "outputId": "2b685628-aef7-4001-bdfc-4db5de364b4d"
      },
      "execution_count": 6,
      "outputs": [
        {
          "output_type": "stream",
          "name": "stdout",
          "text": [
            "[0.99192841]\n"
          ]
        }
      ]
    },
    {
      "cell_type": "code",
      "source": [
        "import numpy as np\n",
        "from scipy.special import expit\n",
        "\n",
        "# Define the sigmoid activation function manually\n",
        "def sigmoid_manual(x):\n",
        "  return 1 / (1 + np.exp(-x))\n",
        "\n",
        "# Define the derivative of the sigmoid function\n",
        "def sigmoid_derivative(x):\n",
        "  return x * (1 - x)\n",
        "\n",
        "# Define the inputs and desired output\n",
        "inputs = np.array([[0, 0, 1],\n",
        "                   [1, 1, 1],\n",
        "                   [1, 0, 1],\n",
        "                   [0, 1, 1]])\n",
        "desired_output = np.array([[0, 1, 1, 0]]).T\n",
        "\n",
        "# Initialize the weights randomly with appropriate shapes and print dimensions\n",
        "hidden_layer_1_weights = 2 * np.random.random((3, 2)) - 1\n",
        "print(\"Hidden Layer 1 Weights Shape:\", hidden_layer_1_weights.shape)\n",
        "hidden_layer_2_weights = 2 * np.random.random((2, 4)) - 1\n",
        "print(\"Hidden Layer 2 Weights Shape:\", hidden_layer_2_weights.shape)\n",
        "hidden_layer_3_weights = 2 * np.random.random((4, 2)) - 1\n",
        "print(\"Hidden Layer 3 Weights Shape:\", hidden_layer_3_weights.shape)\n",
        "output_layer_weights = 2 * np.random.random((2, 1)) - 1\n",
        "print(\"Output Layer Weights Shape:\", output_layer_weights.shape)\n",
        "\n",
        "# Set the learning rate\n",
        "learning_rate = 0.5\n",
        "\n",
        "# Train the neuron for a certain number of iterations\n",
        "for iteration in range(10000):\n",
        "  # Forward propagation with manual sigmoid\n",
        "  hidden_layer_1_output_manual = sigmoid_manual(np.dot(inputs, hidden_layer_1_weights))\n",
        "  hidden_layer_2_output_manual = sigmoid_manual(np.dot(hidden_layer_1_output_manual, hidden_layer_2_weights))\n",
        "  hidden_layer_3_output_manual = sigmoid_manual(np.dot(hidden_layer_2_output_manual, hidden_layer_3_weights))\n",
        "  output_manual = sigmoid_manual(np.dot(hidden_layer_3_output_manual, output_layer_weights))\n",
        "\n",
        "  # Forward propagation with built-in sigmoid\n",
        "  hidden_layer_1_output_builtin = expit(np.dot(inputs, hidden_layer_1_weights))\n",
        "  hidden_layer_2_output_builtin = expit(np.dot(hidden_layer_1_output_builtin, hidden_layer_2_weights))\n",
        "  hidden_layer_3_output_builtin = expit(np.dot(hidden_layer_2_output_builtin, hidden_layer_3_weights))\n",
        "  output_builtin = expit(np.dot(hidden_layer_3_output_builtin, output_layer_weights))\n",
        "\n",
        "  # Backpropagation using manual sigmoid output and error\n",
        "  output_error_manual = desired_output - output_manual\n",
        "  output_delta_manual = output_error_manual * sigmoid_derivative(output_manual)\n",
        "\n",
        "  # ... (Rest of the backpropagation and weight update code remains the same)\n",
        "\n",
        "# Test the neuron with a new input and compare manual vs. built-in\n",
        "new_input = np.array([1, 0, 0])\n",
        "# ... (Calculate predictions using both manual and built-in sigmoid)\n",
        "\n",
        "print(\"Manual Sigmoid Prediction:\", prediction_manual)\n",
        "print(\"Built-in Sigmoid Prediction:\", prediction_builtin)"
      ],
      "metadata": {
        "colab": {
          "base_uri": "https://localhost:8080/"
        },
        "id": "G4tyLSxNDrOE",
        "outputId": "945b1625-4241-4e83-d779-9157e9ad3224"
      },
      "execution_count": 8,
      "outputs": [
        {
          "output_type": "stream",
          "name": "stdout",
          "text": [
            "Hidden Layer 1 Weights Shape: (3, 2)\n",
            "Hidden Layer 2 Weights Shape: (2, 4)\n",
            "Hidden Layer 3 Weights Shape: (4, 2)\n",
            "Output Layer Weights Shape: (2, 1)\n",
            "Manual Sigmoid Prediction: [0.95225082]\n",
            "Built-in Sigmoid Prediction: [0.95225082]\n"
          ]
        }
      ]
    },
    {
      "cell_type": "code",
      "source": [
        "import numpy as np\n",
        "\n",
        "# ... (Previous code for defining sigmoid, initializing weights, etc.)\n",
        "\n",
        "# Define a function to calculate the loss for a single sample\n",
        "def calculate_sample_loss(desired_output, predicted_output):\n",
        "  \"\"\"Calculates the squared error loss for a single sample.\"\"\"\n",
        "  return np.square(desired_output - predicted_output)\n",
        "\n",
        "# Define a function to calculate the loss for the entire dataset\n",
        "def calculate_dataset_loss(desired_output, predicted_output):\n",
        "  \"\"\"Calculates the mean squared error loss for the entire dataset.\"\"\"\n",
        "  return np.mean(np.square(desired_output - predicted_output))\n",
        "\n",
        "# ... (Training loop remains the same)\n",
        "\n",
        "# After training, calculate individual sample losses\n",
        "sample_losses = [calculate_sample_loss(desired_output[i], output[i]) for i in range(len(desired_output))]\n",
        "\n",
        "# Calculate the dataset loss\n",
        "dataset_loss = calculate_dataset_loss(desired_output, output)\n",
        "\n",
        "# Print the results\n",
        "print(\"Individual Sample Losses:\", sample_losses)\n",
        "print(\"Dataset Loss:\", dataset_loss)"
      ],
      "metadata": {
        "colab": {
          "base_uri": "https://localhost:8080/"
        },
        "id": "7foFpqe6FHPl",
        "outputId": "87d7fd4f-e5a0-485f-8e5d-47664c4983d1"
      },
      "execution_count": 10,
      "outputs": [
        {
          "output_type": "stream",
          "name": "stdout",
          "text": [
            "Individual Sample Losses: [array([5.47093312e-05]), array([9.28679607e-05]), array([9.04287848e-05]), array([5.10438746e-05])]\n",
            "Dataset Loss: 7.22624878282663e-05\n"
          ]
        }
      ]
    },
    {
      "cell_type": "code",
      "source": [],
      "metadata": {
        "id": "HNIA9WgCFkNo"
      },
      "execution_count": null,
      "outputs": []
    }
  ]
}