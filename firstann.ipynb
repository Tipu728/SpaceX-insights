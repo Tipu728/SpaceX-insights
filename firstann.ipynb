{
  "nbformat": 4,
  "nbformat_minor": 0,
  "metadata": {
    "colab": {
      "provenance": [],
      "authorship_tag": "ABX9TyOlWjbDLUTd2xEP+SpqFVWJ",
      "include_colab_link": true
    },
    "kernelspec": {
      "name": "python3",
      "display_name": "Python 3"
    },
    "language_info": {
      "name": "python"
    }
  },
  "cells": [
    {
      "cell_type": "markdown",
      "metadata": {
        "id": "view-in-github",
        "colab_type": "text"
      },
      "source": [
        "<a href=\"https://colab.research.google.com/github/Tipu728/SpaceX-insights/blob/main/firstann.ipynb\" target=\"_parent\"><img src=\"https://colab.research.google.com/assets/colab-badge.svg\" alt=\"Open In Colab\"/></a>"
      ]
    },
    {
      "cell_type": "code",
      "execution_count": null,
      "metadata": {
        "id": "ngSNvx_0VkHC"
      },
      "outputs": [],
      "source": []
    },
    {
      "source": [
        "import tensorflow as tf\n",
        "import numpy as np\n",
        "\n",
        "# Define a custom activation function (same as sigmoid here, for demonstration)\n",
        "def my_activation(x):\n",
        "    return 1 / (1 + tf.exp(-x))  # Sigmoid function using TensorFlow\n",
        "\n",
        "# Define the first model with custom activation in the first layer\n",
        "model_custom = tf.keras.Sequential([\n",
        "    tf.keras.layers.Dense(units=10, activation=my_activation, input_shape=[5], kernel_initializer='random_uniform'),\n",
        "    tf.keras.layers.Dense(units=1, activation='sigmoid')\n",
        "])\n",
        "\n",
        "# Define the second model with built-in sigmoid in the first layer\n",
        "model_sigmoid = tf.keras.Sequential([\n",
        "    tf.keras.layers.Dense(units=10, activation='sigmoid', input_shape=[5], kernel_initializer='random_uniform'),\n",
        "    tf.keras.layers.Dense(units=1, activation='sigmoid')\n",
        "])\n",
        "\n",
        "# Compile both models\n",
        "model_custom.compile(optimizer='adam', loss='binary_crossentropy',metrics=['accuracy'])\n",
        "model_sigmoid.compile(optimizer='adam', loss='binary_crossentropy',metrics=['accuracy'])\n",
        "\n",
        "# Sample input data (5 inputs)\n",
        "input_data = np.random.rand(100, 5)\n",
        "\n",
        "# Sample target values (binary classification)\n",
        "target_values = np.random.randint(0, 2, size=(100, 1))\n",
        "\n",
        "# Train both models\n",
        "model_custom.fit(input_data, target_values, epochs=10, verbose=0)\n",
        "model_sigmoid.fit(input_data, target_values, epochs=10, verbose=0)\n",
        "input_values = np.array([[0.1, 0.5, 0.2, 0.8, 0.4]])\n",
        "\n",
        "# Get predictions from both models\n",
        "predictions_custom = model_custom.predict(input_values)\n",
        "predictions_sigmoid = model_sigmoid.predict(input_values)\n",
        "\n",
        "# Compare the predictions\n",
        "print(\"Custom Activation Predictions: \", predictions_custom)\n",
        "print(\"Sigmoid Activation Predictions: \", predictions_sigmoid)\n"
      ],
      "cell_type": "code",
      "metadata": {
        "colab": {
          "base_uri": "https://localhost:8080/"
        },
        "id": "__iGK_CCV2Kz",
        "outputId": "3ee0be80-9e5c-454d-fb8c-b7ab2e01f2ea"
      },
      "execution_count": null,
      "outputs": [
        {
          "output_type": "stream",
          "name": "stdout",
          "text": [
            "\u001b[1m1/1\u001b[0m \u001b[32m━━━━━━━━━━━━━━━━━━━━\u001b[0m\u001b[37m\u001b[0m \u001b[1m0s\u001b[0m 86ms/step\n",
            "\u001b[1m1/1\u001b[0m \u001b[32m━━━━━━━━━━━━━━━━━━━━\u001b[0m\u001b[37m\u001b[0m \u001b[1m0s\u001b[0m 70ms/step\n",
            "Custom Activation Predictions:  [[0.4451135]]\n",
            "Sigmoid Activation Predictions:  [[0.6664043]]\n"
          ]
        }
      ]
    },
    {
      "cell_type": "code",
      "source": [],
      "metadata": {
        "id": "StyKvy1uCSIB"
      },
      "execution_count": null,
      "outputs": []
    },
    {
      "cell_type": "code",
      "source": [],
      "metadata": {
        "id": "aCQ2q6L0V6C8"
      },
      "execution_count": null,
      "outputs": []
    }
  ]
}